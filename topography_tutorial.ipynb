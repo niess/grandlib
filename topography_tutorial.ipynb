{
 "cells": [
  {
   "cell_type": "code",
   "execution_count": 3,
   "id": "4aff3749",
   "metadata": {},
   "outputs": [],
   "source": [
    "from grand import topography\n",
    "from grand.tools.topography import Topography\n",
    "\n",
    "from grand.tools import ECEF, Geodetic, LTP, GRAND, CartesianRepresentation\n",
    "import numpy as np"
   ]
  },
  {
   "cell_type": "code",
   "execution_count": 4,
   "id": "0b944f27",
   "metadata": {},
   "outputs": [],
   "source": [
    "# update data\n",
    "loc = Geodetic(latitude=45, longitude=90, height=1000)\n",
    "topography.update_data(coordinates=loc)\n",
    "#topography.update_data(coordinates=loc, radius=1e3) # radius in meter"
   ]
  },
  {
   "cell_type": "code",
   "execution_count": 11,
   "id": "48523c50",
   "metadata": {
    "hideCode": false
   },
   "outputs": [
    {
     "name": "stdout",
     "output_type": "stream",
     "text": [
      "Elevation w.r.t geoid (mean sea level) at a given location.\n",
      "    elevation method1 : 1015.3753332956809\n",
      "    undulation        : 7.375333295680863\n",
      "    elevation method2 : 1015.3753332956809\n",
      "    elevation wrt ellipsoid: 1022.7506665913618 \n",
      "\n",
      "Elevation based on GRAND coordinate system.\n",
      "    elevation GRAND1  : 15.375333295588277\n",
      "    elevation GRAND2  : 27.06268048248534 \n",
      "\n"
     ]
    }
   ],
   "source": [
    "# elevation and undulation. Elevation is wrt to mean sea level (geoid).\n",
    "elev1= topography.elevation(loc) # method 1\n",
    "undu = topography.geoid_undulation(loc)\n",
    "print('Elevation w.r.t geoid (mean sea level) at a given location.')\n",
    "print('    elevation method1 :', elev1) \n",
    "print('    undulation        :', undu) \n",
    "\n",
    "topo = Topography('/Users/rameshkoirala/Documents/GRAND/grand/grand/tools/data/topography')\n",
    "elev2 = topo.elevation(loc) # method 2\n",
    "print('    elevation method2 :', elev2)\n",
    "\n",
    "# Elevation wrt ellipsoid.\n",
    "elev_wrt_ellip = topography.elevation(loc) + topography.geoid_undulation(loc) # =elev1+undu. being explicit here.\n",
    "print('    elevation wrt ellipsoid:', elev_wrt_ellip, '\\n')\n",
    "\n",
    "# elevation based on GRAND coordinate system.\n",
    "gcs1 = GRAND(x=0, y=0, z=0, location=loc)     # z-coordinate does not matter. \n",
    "gcs2 = GRAND(x=100, y=100, z=0, location=loc) # z-coordinate does not matter.\n",
    "print('Elevation based on GRAND coordinate system.')\n",
    "print('    elevation GRAND1  :', topography.elevation(gcs1))\n",
    "print('    elevation GRAND2  :', topography.elevation(gcs2), '\\n')\n"
   ]
  },
  {
   "cell_type": "code",
   "execution_count": 13,
   "id": "38cfd544",
   "metadata": {},
   "outputs": [
    {
     "name": "stdout",
     "output_type": "stream",
     "text": [
      "Distance using random vector.\n",
      "    distance method1: -104.79553357465221\n",
      "    distance method2: -104.79553357465221 \n",
      "\n",
      "Direction vector pointing towards the position from Earth's center.\n",
      "    distance method1: -15.373746979222032\n",
      "    distance method2: -15.373746979222032 \n",
      "\n"
     ]
    }
   ],
   "source": [
    "# topography distance. distance(position, direction, maximum_distance).\n",
    "# Position should be in known coordinate system, i.e. Geodetic, ECEF, GRAND, or LTP. Internally it will\n",
    "#    be transformed to ECEF.\n",
    "# direction is a vector pointing towards the particle trajectory. Internally unit vector is calculated and used.\n",
    "#    Error occurs if the direction is not converted to an unit vector.\n",
    "# masimum_distance uses 0 or large number. Large number has to be larger than the distance being calculated. \n",
    "# Example: maximum_distance = np.array([1e6]). default=0\n",
    "direction = CartesianRepresentation(x=1, y=-2, z=3) # Random vector\n",
    "position  = loc\n",
    "distance1 = topography.distance(position, direction) # method 1\n",
    "distance2 = topo.distance(position, direction)       # method 2\n",
    "print('Distance using random vector.')\n",
    "print('    distance method1:', distance1)\n",
    "print('    distance method2:', distance2, '\\n')\n",
    "\n",
    "# Distance in this case should be equal to height-elevation. Height of a position and elevation at that lat, lon.\n",
    "direction = ECEF(position)\n",
    "distance1 = topography.distance(position, direction) # method 1\n",
    "distance2 = topo.distance(position, direction)       # method 2\n",
    "print(\"Direction vector pointing towards the position from Earth's center.\")\n",
    "print('    distance method1:', distance1)\n",
    "print('    distance method2:', distance2, '\\n')"
   ]
  },
  {
   "cell_type": "code",
   "execution_count": null,
   "id": "441c87b4",
   "metadata": {},
   "outputs": [],
   "source": []
  }
 ],
 "metadata": {
  "celltoolbar": "Hide code",
  "kernelspec": {
   "display_name": "Python 3 (ipykernel)",
   "language": "python",
   "name": "python3"
  },
  "language_info": {
   "codemirror_mode": {
    "name": "ipython",
    "version": 3
   },
   "file_extension": ".py",
   "mimetype": "text/x-python",
   "name": "python",
   "nbconvert_exporter": "python",
   "pygments_lexer": "ipython3",
   "version": "3.9.5"
  }
 },
 "nbformat": 4,
 "nbformat_minor": 5
}
